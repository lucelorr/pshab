{
  "nbformat": 4,
  "nbformat_minor": 0,
  "metadata": {
    "colab": {
      "provenance": [],
      "authorship_tag": "ABX9TyOCT/7Nv08xkW1AnTQm/r4Y",
      "include_colab_link": true
    },
    "kernelspec": {
      "name": "python3",
      "display_name": "Python 3"
    },
    "language_info": {
      "name": "python"
    }
  },
  "cells": [
    {
      "cell_type": "markdown",
      "metadata": {
        "id": "view-in-github",
        "colab_type": "text"
      },
      "source": [
        "<a href=\"https://colab.research.google.com/github/lucelorr/pshab/blob/master/FashionMNIST_tf.ipynb\" target=\"_parent\"><img src=\"https://colab.research.google.com/assets/colab-badge.svg\" alt=\"Open In Colab\"/></a>"
      ]
    },
    {
      "cell_type": "code",
      "execution_count": 1,
      "metadata": {
        "colab": {
          "base_uri": "https://localhost:8080/"
        },
        "id": "Zv82R3QWPJm5",
        "outputId": "20788033-f770-4982-c7f4-313127e1e865"
      },
      "outputs": [
        {
          "output_type": "stream",
          "name": "stdout",
          "text": [
            "2.15.0\n"
          ]
        }
      ],
      "source": [
        "# TensorFlow y tf.keras\n",
        "import tensorflow as tf\n",
        "from tensorflow import keras\n",
        "\n",
        "# Librerias de ayuda\n",
        "import numpy as np\n",
        "import matplotlib.pyplot as plt\n",
        "\n",
        "print(tf.__version__)"
      ]
    },
    {
      "cell_type": "code",
      "source": [
        "fashion_mnist = keras.datasets.fashion_mnist\n",
        "\n",
        "(train_images, train_labels), (test_images, test_labels) = fashion_mnist.load_data()"
      ],
      "metadata": {
        "id": "Vz47P3F2Ppk_"
      },
      "execution_count": 2,
      "outputs": []
    },
    {
      "cell_type": "code",
      "source": [
        "train_images.shape"
      ],
      "metadata": {
        "colab": {
          "base_uri": "https://localhost:8080/"
        },
        "id": "hP0RIDwzQAaS",
        "outputId": "df28dd18-4ba4-4d7b-fbe0-89ba3a96d241"
      },
      "execution_count": 3,
      "outputs": [
        {
          "output_type": "execute_result",
          "data": {
            "text/plain": [
              "(60000, 28, 28)"
            ]
          },
          "metadata": {},
          "execution_count": 3
        }
      ]
    },
    {
      "cell_type": "code",
      "source": [
        "train_images.dtype"
      ],
      "metadata": {
        "colab": {
          "base_uri": "https://localhost:8080/"
        },
        "id": "xVh5Z-IUQP75",
        "outputId": "12af622f-7e3b-4184-bbae-01a0c17e84b3"
      },
      "execution_count": 4,
      "outputs": [
        {
          "output_type": "execute_result",
          "data": {
            "text/plain": [
              "dtype('uint8')"
            ]
          },
          "metadata": {},
          "execution_count": 4
        }
      ]
    },
    {
      "cell_type": "code",
      "source": [
        "# Las 5000 primeras muestras son el conjunto de validación.\n",
        "valid_images, train_images = train_images[:5000]/255.0, train_images[5000:]/255.0\n",
        "valid_labels, train_labels = train_labels[:5000], train_labels[5000:]"
      ],
      "metadata": {
        "id": "qSA5xNKNjyq8"
      },
      "execution_count": 5,
      "outputs": []
    },
    {
      "cell_type": "code",
      "source": [
        "# Lista de nombres de las clases\n",
        "class_names = ['T-shirt/top', 'Trouser', 'Pullover', 'Dress', 'Coat',\n",
        "               'Sandal', 'Shirt', 'Sneaker', 'Bag', 'Ankle boot']"
      ],
      "metadata": {
        "id": "qtWXy9uIku_E"
      },
      "execution_count": 6,
      "outputs": []
    },
    {
      "cell_type": "code",
      "source": [
        "class_names[train_labels[0]]"
      ],
      "metadata": {
        "colab": {
          "base_uri": "https://localhost:8080/",
          "height": 36
        },
        "id": "xzNp44wIl9ok",
        "outputId": "42bebaf9-bacd-4287-f8cb-653eeda577cf"
      },
      "execution_count": 7,
      "outputs": [
        {
          "output_type": "execute_result",
          "data": {
            "text/plain": [
              "'Coat'"
            ],
            "application/vnd.google.colaboratory.intrinsic+json": {
              "type": "string"
            }
          },
          "metadata": {},
          "execution_count": 7
        }
      ]
    },
    {
      "cell_type": "code",
      "source": [
        "class_names[train_labels[1]]"
      ],
      "metadata": {
        "colab": {
          "base_uri": "https://localhost:8080/",
          "height": 36
        },
        "id": "1TrgwQPnmJ60",
        "outputId": "449eb996-bfc8-4809-bb64-387b2b2e7e46"
      },
      "execution_count": 8,
      "outputs": [
        {
          "output_type": "execute_result",
          "data": {
            "text/plain": [
              "'T-shirt/top'"
            ],
            "application/vnd.google.colaboratory.intrinsic+json": {
              "type": "string"
            }
          },
          "metadata": {},
          "execution_count": 8
        }
      ]
    },
    {
      "cell_type": "code",
      "source": [
        "# Con el siguiente código se muestran los primeras 25 figuras\n",
        "plt.figure(figsize=(10,10))\n",
        "for i in range(25):\n",
        "    plt.subplot(5,5,i+1)\n",
        "    plt.xticks([])\n",
        "    plt.yticks([])\n",
        "    plt.grid(False)\n",
        "    plt.imshow(train_images[i], cmap=plt.cm.binary)\n",
        "    plt.xlabel(class_names[train_labels[i]])\n",
        "plt.show()"
      ],
      "metadata": {
        "colab": {
          "base_uri": "https://localhost:8080/",
          "height": 826
        },
        "id": "-9yUc9Enmcn5",
        "outputId": "5dc8f692-d684-487e-a444-e9430229495e"
      },
      "execution_count": 9,
      "outputs": [
        {
          "output_type": "display_data",
          "data": {
            "text/plain": [
              "<Figure size 1000x1000 with 25 Axes>"
            ],
            "image/png": "[encoded data removed]"
          },
          "metadata": {}
        }
      ]
    },
    {
      "cell_type": "markdown",
      "source": [
        "CONSTRUCCIÓN DEL MODELO"
      ],
      "metadata": {
        "id": "76yLgmIom1Mt"
      }
    },
    {
      "cell_type": "code",
      "source": [
        "#Construimos la red neuronal\n",
        "model= keras.models.Sequential() # Transforma el formato de las imagenes de un\n",
        "# arreglo bi-dimensional (de 28 por 28 pixeles) a un arreglo uni dimensional\n",
        "# (de 28*28 pixeles = 784 pixeles)\n",
        "# Esta capa no tiene parametros; solo reformatea el set de datos.\n",
        "model.add(keras.layers.Flatten(input_shape=[28, 28]))\n",
        "model.add(keras.layers.Dense(300, activation=\"relu\"))\n",
        "model.add(keras.layers.Dense(100, activation = \"relu\"))\n",
        "model.add(keras.layers.Dense(10, activation=\"softmax\"))\n"
      ],
      "metadata": {
        "id": "u3K7pIFBm4el"
      },
      "execution_count": 10,
      "outputs": []
    },
    {
      "cell_type": "code",
      "source": [
        "# En lugar de añadir las capas de una en una, podemos pasar una lista de capas al crear un modelo Sequential\n",
        "# model = keras.models.Sequential([\n",
        "#    keras.layers.Flatten(input_shape = [28, 28]),\n",
        "#    keras.layers.Dense(300, activation =\"relu\"),\n",
        "#    keras.layers.Dense(100, activation =\"relu\"),\n",
        "#    keras.layers.Dense(10, activation =\"softmax\"),\n",
        "# ])"
      ],
      "metadata": {
        "id": "H1hDInrJrmLU"
      },
      "execution_count": 11,
      "outputs": []
    },
    {
      "cell_type": "code",
      "source": [
        "model.summary()\n",
        "# resumen que nos da las capas, las salidas y la forma y el número de parámetros"
      ],
      "metadata": {
        "colab": {
          "base_uri": "https://localhost:8080/"
        },
        "id": "J8ETsNAYyiPk",
        "outputId": "e8279953-3d6f-414c-cc21-6a8a85abd2c9"
      },
      "execution_count": 12,
      "outputs": [
        {
          "output_type": "stream",
          "name": "stdout",
          "text": [
            "Model: \"sequential\"\n",
            "_________________________________________________________________\n",
            " Layer (type)                Output Shape              Param #   \n",
            "=================================================================\n",
            " flatten (Flatten)           (None, 784)               0         \n",
            "                                                                 \n",
            " dense (Dense)               (None, 300)               235500    \n",
            "                                                                 \n",
            " dense_1 (Dense)             (None, 100)               30100     \n",
            "                                                                 \n",
            " dense_2 (Dense)             (None, 10)                1010      \n",
            "                                                                 \n",
            "=================================================================\n",
            "Total params: 266610 (1.02 MB)\n",
            "Trainable params: 266610 (1.02 MB)\n",
            "Non-trainable params: 0 (0.00 Byte)\n",
            "_________________________________________________________________\n"
          ]
        }
      ]
    },
    {
      "cell_type": "code",
      "source": [
        "model.layers\n",
        "# Con este comando obtengo una lista de capas del modelo"
      ],
      "metadata": {
        "colab": {
          "base_uri": "https://localhost:8080/"
        },
        "id": "pvQb-zebyor0",
        "outputId": "2bddcd53-d694-4abb-9a28-adfce60fc9f5"
      },
      "execution_count": 13,
      "outputs": [
        {
          "output_type": "execute_result",
          "data": {
            "text/plain": [
              "[<keras.src.layers.reshaping.flatten.Flatten at 0x7c44c9b71f60>,\n",
              " <keras.src.layers.core.dense.Dense at 0x7c44c6f40880>,\n",
              " <keras.src.layers.core.dense.Dense at 0x7c44c6f41510>,\n",
              " <keras.src.layers.core.dense.Dense at 0x7c44c6f41600>]"
            ]
          },
          "metadata": {},
          "execution_count": 13
        }
      ]
    },
    {
      "cell_type": "code",
      "source": [
        "hidden1 = model.layers[1]\n",
        "hidden1.name"
      ],
      "metadata": {
        "colab": {
          "base_uri": "https://localhost:8080/",
          "height": 36
        },
        "id": "pJnAdta3zCQZ",
        "outputId": "99970d0d-c314-4829-89de-d5a8b587e12f"
      },
      "execution_count": 14,
      "outputs": [
        {
          "output_type": "execute_result",
          "data": {
            "text/plain": [
              "'dense'"
            ],
            "application/vnd.google.colaboratory.intrinsic+json": {
              "type": "string"
            }
          },
          "metadata": {},
          "execution_count": 14
        }
      ]
    },
    {
      "cell_type": "code",
      "source": [
        "model.get_layer('dense') is hidden1"
      ],
      "metadata": {
        "colab": {
          "base_uri": "https://localhost:8080/"
        },
        "id": "nZ69TC6ozMVE",
        "outputId": "e959d98e-8c18-4529-c17d-ea0f9ec0ab45"
      },
      "execution_count": 15,
      "outputs": [
        {
          "output_type": "execute_result",
          "data": {
            "text/plain": [
              "True"
            ]
          },
          "metadata": {},
          "execution_count": 15
        }
      ]
    },
    {
      "cell_type": "code",
      "source": [
        "# Podemos acceder a los parámetros de una capa, tanto a los pesos de conexión como a los términos de sesgo\n",
        "weights, biases = hidden1.get_weights()\n",
        "weights"
      ],
      "metadata": {
        "colab": {
          "base_uri": "https://localhost:8080/"
        },
        "id": "iy3XiBrxzdAk",
        "outputId": "17f3c3cc-90a1-4fe0-ca14-69b6a3780232"
      },
      "execution_count": 16,
      "outputs": [
        {
          "output_type": "execute_result",
          "data": {
            "text/plain": [
              "array([[ 0.06127268,  0.06482774,  0.06501871, ..., -0.0598858 ,\n",
              "         0.04875221,  0.07147835],\n",
              "       [-0.02976836,  0.02643518,  0.02643768, ...,  0.0529175 ,\n",
              "        -0.07436076, -0.05547132],\n",
              "       [ 0.02352625,  0.06766641, -0.01605808, ..., -0.00239042,\n",
              "         0.02627349,  0.06030862],\n",
              "       ...,\n",
              "       [-0.06236479,  0.06849743, -0.02887921, ...,  0.02164614,\n",
              "        -0.06615832, -0.06889519],\n",
              "       [-0.00923227,  0.02234405,  0.01073813, ...,  0.04956542,\n",
              "         0.06114781,  0.05230309],\n",
              "       [ 0.05860245,  0.01978044, -0.06174437, ..., -0.06832457,\n",
              "        -0.05146419,  0.04440095]], dtype=float32)"
            ]
          },
          "metadata": {},
          "execution_count": 16
        }
      ]
    },
    {
      "cell_type": "code",
      "source": [
        "weights.shape"
      ],
      "metadata": {
        "colab": {
          "base_uri": "https://localhost:8080/"
        },
        "id": "n_MzvlC5zwF7",
        "outputId": "4a5aaf27-5f94-4fa9-e6d9-c0408a03fa0f"
      },
      "execution_count": 17,
      "outputs": [
        {
          "output_type": "execute_result",
          "data": {
            "text/plain": [
              "(784, 300)"
            ]
          },
          "metadata": {},
          "execution_count": 17
        }
      ]
    },
    {
      "cell_type": "code",
      "source": [
        "biases"
      ],
      "metadata": {
        "colab": {
          "base_uri": "https://localhost:8080/"
        },
        "id": "xJObQah4zzvz",
        "outputId": "b5fda5eb-4f13-4342-c0e9-2fc6be4c3e95"
      },
      "execution_count": 18,
      "outputs": [
        {
          "output_type": "execute_result",
          "data": {
            "text/plain": [
              "array([0., 0., 0., 0., 0., 0., 0., 0., 0., 0., 0., 0., 0., 0., 0., 0., 0.,\n",
              "       0., 0., 0., 0., 0., 0., 0., 0., 0., 0., 0., 0., 0., 0., 0., 0., 0.,\n",
              "       0., 0., 0., 0., 0., 0., 0., 0., 0., 0., 0., 0., 0., 0., 0., 0., 0.,\n",
              "       0., 0., 0., 0., 0., 0., 0., 0., 0., 0., 0., 0., 0., 0., 0., 0., 0.,\n",
              "       0., 0., 0., 0., 0., 0., 0., 0., 0., 0., 0., 0., 0., 0., 0., 0., 0.,\n",
              "       0., 0., 0., 0., 0., 0., 0., 0., 0., 0., 0., 0., 0., 0., 0., 0., 0.,\n",
              "       0., 0., 0., 0., 0., 0., 0., 0., 0., 0., 0., 0., 0., 0., 0., 0., 0.,\n",
              "       0., 0., 0., 0., 0., 0., 0., 0., 0., 0., 0., 0., 0., 0., 0., 0., 0.,\n",
              "       0., 0., 0., 0., 0., 0., 0., 0., 0., 0., 0., 0., 0., 0., 0., 0., 0.,\n",
              "       0., 0., 0., 0., 0., 0., 0., 0., 0., 0., 0., 0., 0., 0., 0., 0., 0.,\n",
              "       0., 0., 0., 0., 0., 0., 0., 0., 0., 0., 0., 0., 0., 0., 0., 0., 0.,\n",
              "       0., 0., 0., 0., 0., 0., 0., 0., 0., 0., 0., 0., 0., 0., 0., 0., 0.,\n",
              "       0., 0., 0., 0., 0., 0., 0., 0., 0., 0., 0., 0., 0., 0., 0., 0., 0.,\n",
              "       0., 0., 0., 0., 0., 0., 0., 0., 0., 0., 0., 0., 0., 0., 0., 0., 0.,\n",
              "       0., 0., 0., 0., 0., 0., 0., 0., 0., 0., 0., 0., 0., 0., 0., 0., 0.,\n",
              "       0., 0., 0., 0., 0., 0., 0., 0., 0., 0., 0., 0., 0., 0., 0., 0., 0.,\n",
              "       0., 0., 0., 0., 0., 0., 0., 0., 0., 0., 0., 0., 0., 0., 0., 0., 0.,\n",
              "       0., 0., 0., 0., 0., 0., 0., 0., 0., 0., 0.], dtype=float32)"
            ]
          },
          "metadata": {},
          "execution_count": 18
        }
      ]
    },
    {
      "cell_type": "code",
      "source": [
        "biases.shape"
      ],
      "metadata": {
        "colab": {
          "base_uri": "https://localhost:8080/"
        },
        "id": "rFbqk0CIz5Nk",
        "outputId": "5b107c62-e99e-41f2-a357-3abdf44baab7"
      },
      "execution_count": 19,
      "outputs": [
        {
          "output_type": "execute_result",
          "data": {
            "text/plain": [
              "(300,)"
            ]
          },
          "metadata": {},
          "execution_count": 19
        }
      ]
    },
    {
      "cell_type": "code",
      "source": [
        "model.compile(loss='sparse_categorical_crossentropy',\n",
        "              optimizer='sgd',\n",
        "              metrics=['accuracy'])\n",
        "# El optimizador que usamos es el de Descenso del gradiente estocástico"
      ],
      "metadata": {
        "id": "doKxc5AmC1Or"
      },
      "execution_count": 20,
      "outputs": []
    },
    {
      "cell_type": "markdown",
      "source": [
        "ENTRENAMIENTO Y EVALUACIÓN DEL MODELO"
      ],
      "metadata": {
        "id": "wgsmh6qOEoTC"
      }
    },
    {
      "cell_type": "code",
      "source": [
        "history = model.fit(train_images, train_labels, epochs = 30, validation_data = (valid_images, valid_labels))"
      ],
      "metadata": {
        "colab": {
          "base_uri": "https://localhost:8080/"
        },
        "id": "lCmnQFbjEsZi",
        "outputId": "3f45fcb2-625c-4a89-8b90-4cee13ab66fb"
      },
      "execution_count": 21,
      "outputs": [
        {
          "output_type": "stream",
          "name": "stdout",
          "text": [
            "Epoch 1/30\n",
            "1719/1719 [==============================] - 9s 4ms/step - loss: 0.7154 - accuracy: 0.7668 - val_loss: 0.5137 - val_accuracy: 0.8252\n",
            "Epoch 2/30\n",
            "1719/1719 [==============================] - 5s 3ms/step - loss: 0.4847 - accuracy: 0.8312 - val_loss: 0.4414 - val_accuracy: 0.8472\n",
            "Epoch 3/30\n",
            "1719/1719 [==============================] - 4s 3ms/step - loss: 0.4412 - accuracy: 0.8462 - val_loss: 0.4155 - val_accuracy: 0.8552\n",
            "Epoch 4/30\n",
            "1719/1719 [==============================] - 5s 3ms/step - loss: 0.4141 - accuracy: 0.8553 - val_loss: 0.4258 - val_accuracy: 0.8578\n",
            "Epoch 5/30\n",
            "1719/1719 [==============================] - 5s 3ms/step - loss: 0.3939 - accuracy: 0.8620 - val_loss: 0.3797 - val_accuracy: 0.8706\n",
            "Epoch 6/30\n",
            "1719/1719 [==============================] - 4s 3ms/step - loss: 0.3788 - accuracy: 0.8672 - val_loss: 0.3762 - val_accuracy: 0.8746\n",
            "Epoch 7/30\n",
            "1719/1719 [==============================] - 5s 3ms/step - loss: 0.3650 - accuracy: 0.8717 - val_loss: 0.3679 - val_accuracy: 0.8722\n",
            "Epoch 8/30\n",
            "1719/1719 [==============================] - 5s 3ms/step - loss: 0.3541 - accuracy: 0.8740 - val_loss: 0.3656 - val_accuracy: 0.8722\n",
            "Epoch 9/30\n",
            "1719/1719 [==============================] - 5s 3ms/step - loss: 0.3440 - accuracy: 0.8776 - val_loss: 0.3493 - val_accuracy: 0.8776\n",
            "Epoch 10/30\n",
            "1719/1719 [==============================] - 5s 3ms/step - loss: 0.3333 - accuracy: 0.8819 - val_loss: 0.3651 - val_accuracy: 0.8686\n",
            "Epoch 11/30\n",
            "1719/1719 [==============================] - 5s 3ms/step - loss: 0.3243 - accuracy: 0.8848 - val_loss: 0.3361 - val_accuracy: 0.8798\n",
            "Epoch 12/30\n",
            "1719/1719 [==============================] - 5s 3ms/step - loss: 0.3169 - accuracy: 0.8865 - val_loss: 0.3751 - val_accuracy: 0.8674\n",
            "Epoch 13/30\n",
            "1719/1719 [==============================] - 5s 3ms/step - loss: 0.3103 - accuracy: 0.8893 - val_loss: 0.3282 - val_accuracy: 0.8786\n",
            "Epoch 14/30\n",
            "1719/1719 [==============================] - 5s 3ms/step - loss: 0.3030 - accuracy: 0.8907 - val_loss: 0.3439 - val_accuracy: 0.8804\n",
            "Epoch 15/30\n",
            "1719/1719 [==============================] - 5s 3ms/step - loss: 0.2956 - accuracy: 0.8935 - val_loss: 0.3233 - val_accuracy: 0.8846\n",
            "Epoch 16/30\n",
            "1719/1719 [==============================] - 5s 3ms/step - loss: 0.2892 - accuracy: 0.8967 - val_loss: 0.3205 - val_accuracy: 0.8832\n",
            "Epoch 17/30\n",
            "1719/1719 [==============================] - 4s 3ms/step - loss: 0.2844 - accuracy: 0.8970 - val_loss: 0.3097 - val_accuracy: 0.8848\n",
            "Epoch 18/30\n",
            "1719/1719 [==============================] - 5s 3ms/step - loss: 0.2792 - accuracy: 0.8995 - val_loss: 0.3148 - val_accuracy: 0.8848\n",
            "Epoch 19/30\n",
            "1719/1719 [==============================] - 5s 3ms/step - loss: 0.2738 - accuracy: 0.9019 - val_loss: 0.3078 - val_accuracy: 0.8874\n",
            "Epoch 20/30\n",
            "1719/1719 [==============================] - 5s 3ms/step - loss: 0.2685 - accuracy: 0.9019 - val_loss: 0.3099 - val_accuracy: 0.8896\n",
            "Epoch 21/30\n",
            "1719/1719 [==============================] - 5s 3ms/step - loss: 0.2638 - accuracy: 0.9054 - val_loss: 0.3044 - val_accuracy: 0.8896\n",
            "Epoch 22/30\n",
            "1719/1719 [==============================] - 4s 3ms/step - loss: 0.2595 - accuracy: 0.9059 - val_loss: 0.3040 - val_accuracy: 0.8888\n",
            "Epoch 23/30\n",
            "1719/1719 [==============================] - 5s 3ms/step - loss: 0.2540 - accuracy: 0.9087 - val_loss: 0.3072 - val_accuracy: 0.8912\n",
            "Epoch 24/30\n",
            "1719/1719 [==============================] - 5s 3ms/step - loss: 0.2506 - accuracy: 0.9098 - val_loss: 0.3047 - val_accuracy: 0.8876\n",
            "Epoch 25/30\n",
            "1719/1719 [==============================] - 5s 3ms/step - loss: 0.2459 - accuracy: 0.9118 - val_loss: 0.2974 - val_accuracy: 0.8900\n",
            "Epoch 26/30\n",
            "1719/1719 [==============================] - 5s 3ms/step - loss: 0.2427 - accuracy: 0.9123 - val_loss: 0.3125 - val_accuracy: 0.8852\n",
            "Epoch 27/30\n",
            "1719/1719 [==============================] - 4s 3ms/step - loss: 0.2380 - accuracy: 0.9155 - val_loss: 0.3027 - val_accuracy: 0.8878\n",
            "Epoch 28/30\n",
            "1719/1719 [==============================] - 5s 3ms/step - loss: 0.2339 - accuracy: 0.9165 - val_loss: 0.2958 - val_accuracy: 0.8922\n",
            "Epoch 29/30\n",
            "1719/1719 [==============================] - 4s 3ms/step - loss: 0.2308 - accuracy: 0.9170 - val_loss: 0.2974 - val_accuracy: 0.8918\n",
            "Epoch 30/30\n",
            "1719/1719 [==============================] - 5s 3ms/step - loss: 0.2271 - accuracy: 0.9178 - val_loss: 0.3075 - val_accuracy: 0.8866\n"
          ]
        }
      ]
    },
    {
      "cell_type": "code",
      "source": [
        "history.params"
      ],
      "metadata": {
        "colab": {
          "base_uri": "https://localhost:8080/"
        },
        "id": "SnJM7-BYIYsy",
        "outputId": "e4006449-de15-4e55-93d4-2d419766e37f"
      },
      "execution_count": 25,
      "outputs": [
        {
          "output_type": "execute_result",
          "data": {
            "text/plain": [
              "{'verbose': 1, 'epochs': 30, 'steps': 1719}"
            ]
          },
          "metadata": {},
          "execution_count": 25
        }
      ]
    },
    {
      "cell_type": "code",
      "source": [
        "history.epoch"
      ],
      "metadata": {
        "colab": {
          "base_uri": "https://localhost:8080/"
        },
        "id": "ooWzbsm2IjRy",
        "outputId": "20c27d6a-1af3-4b5b-e021-4ac1a7ba6e5e"
      },
      "execution_count": 27,
      "outputs": [
        {
          "output_type": "execute_result",
          "data": {
            "text/plain": [
              "[0,\n",
              " 1,\n",
              " 2,\n",
              " 3,\n",
              " 4,\n",
              " 5,\n",
              " 6,\n",
              " 7,\n",
              " 8,\n",
              " 9,\n",
              " 10,\n",
              " 11,\n",
              " 12,\n",
              " 13,\n",
              " 14,\n",
              " 15,\n",
              " 16,\n",
              " 17,\n",
              " 18,\n",
              " 19,\n",
              " 20,\n",
              " 21,\n",
              " 22,\n",
              " 23,\n",
              " 24,\n",
              " 25,\n",
              " 26,\n",
              " 27,\n",
              " 28,\n",
              " 29]"
            ]
          },
          "metadata": {},
          "execution_count": 27
        }
      ]
    },
    {
      "cell_type": "code",
      "source": [
        "history.history"
      ],
      "metadata": {
        "colab": {
          "base_uri": "https://localhost:8080/"
        },
        "id": "l2fOx27xIqvC",
        "outputId": "e196943a-f1bc-4dbd-9e3b-a49664478f07"
      },
      "execution_count": 28,
      "outputs": [
        {
          "output_type": "execute_result",
          "data": {
            "text/plain": [
              "{'loss': [0.715421736240387,\n",
              "  0.48471760749816895,\n",
              "  0.4411645233631134,\n",
              "  0.4141436517238617,\n",
              "  0.393873929977417,\n",
              "  0.37878745794296265,\n",
              "  0.36504024267196655,\n",
              "  0.3541303873062134,\n",
              "  0.34395304322242737,\n",
              "  0.33331605792045593,\n",
              "  0.3242938816547394,\n",
              "  0.31685322523117065,\n",
              "  0.3103494942188263,\n",
              "  0.3029918968677521,\n",
              "  0.29560503363609314,\n",
              "  0.2892107665538788,\n",
              "  0.2843576967716217,\n",
              "  0.2791670262813568,\n",
              "  0.273824006319046,\n",
              "  0.26853126287460327,\n",
              "  0.2638278901576996,\n",
              "  0.25947877764701843,\n",
              "  0.2539532780647278,\n",
              "  0.2505511939525604,\n",
              "  0.24590490758419037,\n",
              "  0.2426682859659195,\n",
              "  0.23804989457130432,\n",
              "  0.23388515412807465,\n",
              "  0.23080675303936005,\n",
              "  0.22708667814731598],\n",
              " 'accuracy': [0.7668181657791138,\n",
              "  0.8311636447906494,\n",
              "  0.8462363481521606,\n",
              "  0.8552908897399902,\n",
              "  0.8619818091392517,\n",
              "  0.8671636581420898,\n",
              "  0.8716727495193481,\n",
              "  0.8739818334579468,\n",
              "  0.8776181936264038,\n",
              "  0.8819454312324524,\n",
              "  0.8848363757133484,\n",
              "  0.8864908814430237,\n",
              "  0.8893454670906067,\n",
              "  0.8906727433204651,\n",
              "  0.8934545516967773,\n",
              "  0.8966727256774902,\n",
              "  0.8969636559486389,\n",
              "  0.8994545340538025,\n",
              "  0.9019272923469543,\n",
              "  0.9019272923469543,\n",
              "  0.9054363369941711,\n",
              "  0.9059454798698425,\n",
              "  0.9086727499961853,\n",
              "  0.9097636342048645,\n",
              "  0.911763608455658,\n",
              "  0.9122727513313293,\n",
              "  0.9154909253120422,\n",
              "  0.9164727330207825,\n",
              "  0.9169636368751526,\n",
              "  0.9178363680839539],\n",
              " 'val_loss': [0.5137161612510681,\n",
              "  0.4414474666118622,\n",
              "  0.41553306579589844,\n",
              "  0.4257500469684601,\n",
              "  0.37965911626815796,\n",
              "  0.3761526048183441,\n",
              "  0.3678874373435974,\n",
              "  0.36561134457588196,\n",
              "  0.34927430748939514,\n",
              "  0.3651343286037445,\n",
              "  0.33611154556274414,\n",
              "  0.37510958313941956,\n",
              "  0.3281797170639038,\n",
              "  0.3439352810382843,\n",
              "  0.3232891261577606,\n",
              "  0.32048743963241577,\n",
              "  0.3096572160720825,\n",
              "  0.31477099657058716,\n",
              "  0.3078397512435913,\n",
              "  0.30988192558288574,\n",
              "  0.3044087290763855,\n",
              "  0.30402490496635437,\n",
              "  0.30720046162605286,\n",
              "  0.30466577410697937,\n",
              "  0.29741114377975464,\n",
              "  0.3124639093875885,\n",
              "  0.30271056294441223,\n",
              "  0.2958058714866638,\n",
              "  0.29739469289779663,\n",
              "  0.30754518508911133],\n",
              " 'val_accuracy': [0.8252000212669373,\n",
              "  0.8471999764442444,\n",
              "  0.8551999926567078,\n",
              "  0.8578000068664551,\n",
              "  0.8705999851226807,\n",
              "  0.8745999932289124,\n",
              "  0.8722000122070312,\n",
              "  0.8722000122070312,\n",
              "  0.8776000142097473,\n",
              "  0.8686000108718872,\n",
              "  0.879800021648407,\n",
              "  0.8673999905586243,\n",
              "  0.878600001335144,\n",
              "  0.8804000020027161,\n",
              "  0.8845999836921692,\n",
              "  0.8831999897956848,\n",
              "  0.8848000168800354,\n",
              "  0.8848000168800354,\n",
              "  0.8873999714851379,\n",
              "  0.8895999789237976,\n",
              "  0.8895999789237976,\n",
              "  0.8888000249862671,\n",
              "  0.8912000060081482,\n",
              "  0.8876000046730042,\n",
              "  0.8899999856948853,\n",
              "  0.885200023651123,\n",
              "  0.8877999782562256,\n",
              "  0.8921999931335449,\n",
              "  0.8917999863624573,\n",
              "  0.8866000175476074]}"
            ]
          },
          "metadata": {},
          "execution_count": 28
        }
      ]
    },
    {
      "cell_type": "code",
      "source": [
        "import pandas as pd\n",
        "import matplotlib.pyplot as plt\n",
        "\n",
        "pd.DataFrame(history.history).plot(figsize=(8, 5))\n",
        "plt.grid(True)\n",
        "plt.gca().set_ylim(0,1) # configura el rango vertical en [0, 1]\n",
        "plt.show()"
      ],
      "metadata": {
        "colab": {
          "base_uri": "https://localhost:8080/",
          "height": 451
        },
        "id": "Q3TXp6FSI967",
        "outputId": "c1c58dea-41f4-462c-e71f-6cb4d5dd33f3"
      },
      "execution_count": 31,
      "outputs": [
        {
          "output_type": "display_data",
          "data": {
            "text/plain": [
              "<Figure size 800x500 with 1 Axes>"
            ],
            "image/png": "[encoded data removed]"
          },
          "metadata": {}
        }
      ]
    },
    {
      "cell_type": "code",
      "source": [
        "# Considero la evaluación con el conjunto de prueba\n",
        "model.evaluate(test_images, test_labels)"
      ],
      "metadata": {
        "colab": {
          "base_uri": "https://localhost:8080/"
        },
        "id": "5IREwMgSLMdT",
        "outputId": "5f6c25e9-1443-436e-8b3e-19f1a4be9de2"
      },
      "execution_count": 32,
      "outputs": [
        {
          "output_type": "stream",
          "name": "stdout",
          "text": [
            "313/313 [==============================] - 1s 2ms/step - loss: 67.2323 - accuracy: 0.8359\n"
          ]
        },
        {
          "output_type": "execute_result",
          "data": {
            "text/plain": [
              "[67.23231506347656, 0.8359000086784363]"
            ]
          },
          "metadata": {},
          "execution_count": 32
        }
      ]
    },
    {
      "cell_type": "markdown",
      "source": [
        "USO DEL MODELO PARA HACER PREDICCIONES"
      ],
      "metadata": {
        "id": "ji4AUydmMDFT"
      }
    },
    {
      "cell_type": "code",
      "source": [
        "# Noi habría que escalar las imágenes del conjunto de test?\n",
        "X_new = test_images[:3]\n",
        "y_proba = model.predict(X_new)\n",
        "y_proba.round(2)"
      ],
      "metadata": {
        "colab": {
          "base_uri": "https://localhost:8080/"
        },
        "id": "c1tWKbi2MG36",
        "outputId": "c17abd86-9f3f-424b-e5b1-afdb11aef835"
      },
      "execution_count": 33,
      "outputs": [
        {
          "output_type": "stream",
          "name": "stdout",
          "text": [
            "1/1 [==============================] - 0s 69ms/step\n"
          ]
        },
        {
          "output_type": "execute_result",
          "data": {
            "text/plain": [
              "array([[0., 0., 0., 0., 0., 0., 0., 0., 0., 1.],\n",
              "       [0., 0., 1., 0., 0., 0., 0., 0., 0., 0.],\n",
              "       [0., 1., 0., 0., 0., 0., 0., 0., 0., 0.]], dtype=float32)"
            ]
          },
          "metadata": {},
          "execution_count": 33
        }
      ]
    },
    {
      "cell_type": "code",
      "source": [
        "\n"
      ],
      "metadata": {
        "id": "LhDa3_E8NJwL"
      },
      "execution_count": 34,
      "outputs": []
    }
  ]
}