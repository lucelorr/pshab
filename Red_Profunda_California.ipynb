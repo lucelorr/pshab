{
  "nbformat": 4,
  "nbformat_minor": 0,
  "metadata": {
    "colab": {
      "provenance": [],
      "authorship_tag": "ABX9TyMzmwi4ruAMsWHdtC1zO/YK",
      "include_colab_link": true
    },
    "kernelspec": {
      "name": "python3",
      "display_name": "Python 3"
    },
    "language_info": {
      "name": "python"
    }
  },
  "cells": [
    {
      "cell_type": "markdown",
      "metadata": {
        "id": "view-in-github",
        "colab_type": "text"
      },
      "source": [
        "<a href=\"https://colab.research.google.com/github/lucelorr/pshab/blob/master/Red_Profunda_California.ipynb\" target=\"_parent\"><img src=\"https://colab.research.google.com/assets/colab-badge.svg\" alt=\"Open In Colab\"/></a>"
      ]
    },
    {
      "cell_type": "code",
      "execution_count": null,
      "metadata": {
        "id": "itC93RMeiZk-"
      },
      "outputs": [],
      "source": []
    },
    {
      "cell_type": "markdown",
      "source": [
        "MODELO COMPLEJO CON API FUNCIONAL   \n",
        " Red Neuronal Ancha y Profunda  \n",
        "Problema de la vivienda en California"
      ],
      "metadata": {
        "id": "HTlDMlxwieIk"
      }
    },
    {
      "cell_type": "code",
      "source": [
        "# TensorFlow y tf.keras\n",
        "import tensorflow as tf\n",
        "from tensorflow import keras\n",
        "\n",
        "# Librerias de ayuda\n",
        "import numpy as np\n",
        "import matplotlib.pyplot as plt\n",
        "\n",
        "print(tf.__version__)"
      ],
      "metadata": {
        "id": "vcO0o_zyicLT"
      },
      "execution_count": null,
      "outputs": []
    },
    {
      "cell_type": "code",
      "source": [
        "from sklearn.datasets import fetch_california_housing\n",
        "from sklearn.model_selection import train_test_split\n",
        "from sklearn.preprocessing import StandardScaler"
      ],
      "metadata": {
        "id": "h3_IMmRki5pW"
      },
      "execution_count": null,
      "outputs": []
    },
    {
      "cell_type": "code",
      "source": [
        "housing = fetch_california_housing()"
      ],
      "metadata": {
        "id": "bp-twnEEjAz2"
      },
      "execution_count": null,
      "outputs": []
    },
    {
      "cell_type": "code",
      "source": [
        "X_train_full, X_test, y_train_full, y_test = train_test_split(housing.data, housing.target)\n",
        "X_train, X_valid, y_train, y_valid = train_test_split(X_train_full, y_train_full)\n",
        "scaler = StandardScaler()\n",
        "# Ajusta el conjunto train y este ajuste lo lleva a los conjuntos valid y test\n",
        "X_train = scaler.fit_transform(X_train)\n",
        "X_valid = scaler.transform(X_valid)\n",
        "X_test = scaler.transform(X_test)"
      ],
      "metadata": {
        "id": "JlHeYDFFjBm1"
      },
      "execution_count": null,
      "outputs": []
    },
    {
      "cell_type": "code",
      "source": [
        "# Creamos un objeto Input. Es una especificación del tipo de entrada que tendrá el modelo\n",
        "# incluidos su shape y dtime. En realidad, un modelo puede tener varias entradas\n",
        "input_ = keras.layers.Input(shape = X_train.shape[1:])\n",
        "# Capa Dense con 30 neuronas con la función de activación relu\n",
        "hidden1 = keras.layers.Dense(30, activation = \"relu\")(input_)\n",
        "# Segunda capa oculta y volvemos a usarla como una función. Le pasamos la salida\n",
        "# de la primera capa oculta\n",
        "hidden2 = keras.layers.Dense(30, activation = \"relu\")(hidden1)\n",
        "# Creamos una capa Concatenate y la usamos de inmediato como una función\n",
        "# para concatenar la entrada y la salida de la segunda capa oculta\n",
        "concat = keras.layers.Concatenate()([input_, hidden2])\n",
        "# A continuación creamos la capa de salida, con una sola neurona y sin función de activación\n",
        "# Esto es porque es un problema de regresión.\n",
        "# La usamos como una función pasándole el resultado de concat\n",
        "output = keras.layers.Dense(1)(concat)\n",
        "# Creamos el model de Keras, especificando las entradas y las salidas\n",
        "model = keras.Model(inputs=[input_], outputs=[output])\n",
        "\n",
        "# Lo demás es como antes\n",
        "# Compilar el modelo, entrenarlo, evaluarlo y usarlo para hacer predicciones\n",
        "\n"
      ],
      "metadata": {
        "id": "1VvMMl1ujaAW"
      },
      "execution_count": null,
      "outputs": []
    }
  ]
}