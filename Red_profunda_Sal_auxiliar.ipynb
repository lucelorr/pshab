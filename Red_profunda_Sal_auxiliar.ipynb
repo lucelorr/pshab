{
  "nbformat": 4,
  "nbformat_minor": 0,
  "metadata": {
    "colab": {
      "provenance": [],
      "authorship_tag": "ABX9TyNwB++q71P/1Q8cfytGTi/i",
      "include_colab_link": true
    },
    "kernelspec": {
      "name": "python3",
      "display_name": "Python 3"
    },
    "language_info": {
      "name": "python"
    }
  },
  "cells": [
    {
      "cell_type": "markdown",
      "metadata": {
        "id": "view-in-github",
        "colab_type": "text"
      },
      "source": [
        "<a href=\"https://colab.research.google.com/github/lucelorr/pshab/blob/master/Red_profunda_Sal_auxiliar.ipynb\" target=\"_parent\"><img src=\"https://colab.research.google.com/assets/colab-badge.svg\" alt=\"Open In Colab\"/></a>"
      ]
    },
    {
      "cell_type": "markdown",
      "source": [
        "\n",
        "MODELO COMPLEJO CON API FUNCIONAL Con entrada auxiliar    \n",
        "Red Neuronal Ancha y Profunda   \n",
        "Problema de la vivienda en California   "
      ],
      "metadata": {
        "id": "rt1Kh_fSV6vf"
      }
    },
    {
      "cell_type": "code",
      "source": [
        "# TensorFlow y tf.keras\n",
        "import tensorflow as tf\n",
        "from tensorflow import keras\n",
        "\n",
        "# Librerias de ayuda\n",
        "import numpy as np\n",
        "import matplotlib.pyplot as plt\n",
        "\n",
        "print(tf.__version__)"
      ],
      "metadata": {
        "colab": {
          "base_uri": "https://localhost:8080/"
        },
        "id": "Ul_RCnxxWJGz",
        "outputId": "92bcee5a-7e0e-4cb3-fda8-74cfe158c4c6"
      },
      "execution_count": 1,
      "outputs": [
        {
          "output_type": "stream",
          "name": "stdout",
          "text": [
            "2.15.0\n"
          ]
        }
      ]
    },
    {
      "cell_type": "code",
      "source": [
        "from sklearn.datasets import fetch_california_housing\n",
        "from sklearn.model_selection import train_test_split\n",
        "from sklearn.preprocessing import StandardScaler"
      ],
      "metadata": {
        "id": "a34DMcw-WMha"
      },
      "execution_count": 2,
      "outputs": []
    },
    {
      "cell_type": "code",
      "source": [
        "housing = fetch_california_housing()"
      ],
      "metadata": {
        "id": "hLvEH-bkWPgq"
      },
      "execution_count": 3,
      "outputs": []
    },
    {
      "cell_type": "code",
      "source": [
        "X_train_full, X_test, y_train_full, y_test = train_test_split(housing.data, housing.target)\n",
        "X_train, X_valid, y_train, y_valid = train_test_split(X_train_full, y_train_full)\n",
        "scaler = StandardScaler()\n",
        "# Ajusta el conjunto train y este ajuste lo lleva a los conjuntos valid y test\n",
        "X_train = scaler.fit_transform(X_train)\n",
        "X_valid = scaler.transform(X_valid)\n",
        "X_test = scaler.transform(X_test)"
      ],
      "metadata": {
        "id": "KMKNKlOMWR7C"
      },
      "execution_count": 5,
      "outputs": []
    },
    {
      "cell_type": "code",
      "source": [
        "# Enviamos por la ruta ancha las caracteristicas de la 0 a la 4\n",
        "# Enviamos por la ruta profunda las características de la 2 a la 7\n",
        "# Creamos dos objeto Input.\n",
        "input_A = keras.layers.Input(shape = [5], name=\"wide_input\")\n",
        "input_B = keras.layers.Input(shape = [6], name=\"deep_input\")\n",
        "hidden1 = keras.layers.Dense(30, activation = \"relu\")(input_B)\n",
        "hidden2 = keras.layers.Dense(30, activation = \"relu\")(hidden1)\n",
        "concat = keras.layers.concatenate([input_A, hidden2])\n",
        "output = keras.layers.Dense(1, name=\"main_output\")(concat)\n",
        "aux_output = keras.layers.Dense(1, name=\"aux_output\")(hidden2)\n",
        "model = keras.Model(inputs=[input_A, input_B], outputs=[output, aux_output])\n",
        "# El modelo es muestra en la figura 10.16"
      ],
      "metadata": {
        "id": "aiR8A5kOWVEz"
      },
      "execution_count": 6,
      "outputs": []
    },
    {
      "cell_type": "code",
      "source": [
        "model.compile(loss=[\"mse\", \"mse\"], loss_weights = [0.9, 0.1],  optimizer=\"sgd\")"
      ],
      "metadata": {
        "id": "GdJwiXWMWyj6"
      },
      "execution_count": 8,
      "outputs": []
    },
    {
      "cell_type": "code",
      "source": [
        "X_train_A, X_train_B = X_train[:, :5], X_train[:, 2:]\n",
        "X_valid_A, X_valid_B = X_valid[:, :5], X_valid[:, 2:]\n",
        "X_test_A, X_test_B = X_test[:, :5], X_test[:, 2:]\n",
        "X_new_A, X_new_B = X_test_A[:3], X_test_B[:3]"
      ],
      "metadata": {
        "id": "YyWTeMtTYyE9"
      },
      "execution_count": 10,
      "outputs": []
    },
    {
      "cell_type": "code",
      "source": [
        "history = model.fit(\n",
        "    [X_train_A, X_train_B], [y_train, y_train], epochs = 20,\n",
        "    validation_data = ([X_valid_A, X_valid_B], [y_valid, y_valid]))\n",
        "\n"
      ],
      "metadata": {
        "colab": {
          "base_uri": "https://localhost:8080/"
        },
        "id": "v82uSSdMXFIO",
        "outputId": "51b7c63c-b81e-4078-f929-754eedd56c80"
      },
      "execution_count": 11,
      "outputs": [
        {
          "output_type": "stream",
          "name": "stdout",
          "text": [
            "Epoch 1/20\n",
            "363/363 [==============================] - 2s 4ms/step - loss: 0.9555 - main_output_loss: 0.8517 - aux_output_loss: 1.8893 - val_loss: 0.6560 - val_main_output_loss: 0.5873 - val_aux_output_loss: 1.2738\n",
            "Epoch 2/20\n",
            "363/363 [==============================] - 1s 3ms/step - loss: 0.7371 - main_output_loss: 0.6775 - aux_output_loss: 1.2733 - val_loss: 0.6238 - val_main_output_loss: 0.5682 - val_aux_output_loss: 1.1246\n",
            "Epoch 3/20\n",
            "363/363 [==============================] - 1s 3ms/step - loss: 0.5481 - main_output_loss: 0.4988 - aux_output_loss: 0.9919 - val_loss: 0.5478 - val_main_output_loss: 0.5072 - val_aux_output_loss: 0.9130\n",
            "Epoch 4/20\n",
            "363/363 [==============================] - 1s 3ms/step - loss: 0.5078 - main_output_loss: 0.4732 - aux_output_loss: 0.8188 - val_loss: 0.5303 - val_main_output_loss: 0.4995 - val_aux_output_loss: 0.8074\n",
            "Epoch 5/20\n",
            "363/363 [==============================] - 1s 3ms/step - loss: 0.4842 - main_output_loss: 0.4565 - aux_output_loss: 0.7338 - val_loss: 0.5029 - val_main_output_loss: 0.4763 - val_aux_output_loss: 0.7419\n",
            "Epoch 6/20\n",
            "363/363 [==============================] - 1s 3ms/step - loss: 0.4712 - main_output_loss: 0.4475 - aux_output_loss: 0.6854 - val_loss: 0.4883 - val_main_output_loss: 0.4641 - val_aux_output_loss: 0.7060\n",
            "Epoch 7/20\n",
            "363/363 [==============================] - 1s 3ms/step - loss: 0.4582 - main_output_loss: 0.4367 - aux_output_loss: 0.6515 - val_loss: 0.4755 - val_main_output_loss: 0.4530 - val_aux_output_loss: 0.6779\n",
            "Epoch 8/20\n",
            "363/363 [==============================] - 1s 3ms/step - loss: 0.4490 - main_output_loss: 0.4288 - aux_output_loss: 0.6308 - val_loss: 0.4634 - val_main_output_loss: 0.4421 - val_aux_output_loss: 0.6552\n",
            "Epoch 9/20\n",
            "363/363 [==============================] - 1s 3ms/step - loss: 0.4413 - main_output_loss: 0.4222 - aux_output_loss: 0.6126 - val_loss: 0.4558 - val_main_output_loss: 0.4352 - val_aux_output_loss: 0.6412\n",
            "Epoch 10/20\n",
            "363/363 [==============================] - 2s 4ms/step - loss: 0.4329 - main_output_loss: 0.4143 - aux_output_loss: 0.6002 - val_loss: 0.4485 - val_main_output_loss: 0.4291 - val_aux_output_loss: 0.6235\n",
            "Epoch 11/20\n",
            "363/363 [==============================] - 1s 3ms/step - loss: 0.4257 - main_output_loss: 0.4078 - aux_output_loss: 0.5872 - val_loss: 0.4400 - val_main_output_loss: 0.4211 - val_aux_output_loss: 0.6105\n",
            "Epoch 12/20\n",
            "363/363 [==============================] - 1s 3ms/step - loss: 0.4184 - main_output_loss: 0.4013 - aux_output_loss: 0.5729 - val_loss: 0.4288 - val_main_output_loss: 0.4106 - val_aux_output_loss: 0.5926\n",
            "Epoch 13/20\n",
            "363/363 [==============================] - 1s 3ms/step - loss: 0.4120 - main_output_loss: 0.3953 - aux_output_loss: 0.5622 - val_loss: 0.4486 - val_main_output_loss: 0.4308 - val_aux_output_loss: 0.6089\n",
            "Epoch 14/20\n",
            "363/363 [==============================] - 1s 3ms/step - loss: 0.4062 - main_output_loss: 0.3900 - aux_output_loss: 0.5524 - val_loss: 0.4783 - val_main_output_loss: 0.4661 - val_aux_output_loss: 0.5886\n",
            "Epoch 15/20\n",
            "363/363 [==============================] - 1s 3ms/step - loss: 0.4000 - main_output_loss: 0.3844 - aux_output_loss: 0.5405 - val_loss: 0.4099 - val_main_output_loss: 0.3932 - val_aux_output_loss: 0.5597\n",
            "Epoch 16/20\n",
            "363/363 [==============================] - 1s 3ms/step - loss: 0.3929 - main_output_loss: 0.3777 - aux_output_loss: 0.5297 - val_loss: 0.4438 - val_main_output_loss: 0.4299 - val_aux_output_loss: 0.5691\n",
            "Epoch 17/20\n",
            "363/363 [==============================] - 1s 3ms/step - loss: 0.3925 - main_output_loss: 0.3780 - aux_output_loss: 0.5233 - val_loss: 0.3972 - val_main_output_loss: 0.3814 - val_aux_output_loss: 0.5395\n",
            "Epoch 18/20\n",
            "363/363 [==============================] - 1s 3ms/step - loss: 0.3843 - main_output_loss: 0.3700 - aux_output_loss: 0.5132 - val_loss: 0.3912 - val_main_output_loss: 0.3765 - val_aux_output_loss: 0.5234\n",
            "Epoch 19/20\n",
            "363/363 [==============================] - 1s 3ms/step - loss: 0.3813 - main_output_loss: 0.3674 - aux_output_loss: 0.5058 - val_loss: 0.3868 - val_main_output_loss: 0.3729 - val_aux_output_loss: 0.5126\n",
            "Epoch 20/20\n",
            "363/363 [==============================] - 2s 4ms/step - loss: 0.3762 - main_output_loss: 0.3628 - aux_output_loss: 0.4970 - val_loss: 0.4008 - val_main_output_loss: 0.3885 - val_aux_output_loss: 0.5115\n"
          ]
        }
      ]
    },
    {
      "cell_type": "code",
      "source": [
        "total_loss, main_loss, aux_loss = model.evaluate([X_test_A, X_test_B], [y_test, y_test])"
      ],
      "metadata": {
        "colab": {
          "base_uri": "https://localhost:8080/"
        },
        "id": "PCh116fhXk26",
        "outputId": "798b866b-d4ba-4ea6-eaa1-225deb0557f5"
      },
      "execution_count": 12,
      "outputs": [
        {
          "output_type": "stream",
          "name": "stdout",
          "text": [
            "162/162 [==============================] - 0s 2ms/step - loss: 0.3977 - main_output_loss: 0.3844 - aux_output_loss: 0.5182\n"
          ]
        }
      ]
    },
    {
      "cell_type": "code",
      "source": [
        "y_pred_main, y_pred_aux = model.predict([X_new_A, X_new_B])"
      ],
      "metadata": {
        "colab": {
          "base_uri": "https://localhost:8080/"
        },
        "id": "p4x9qwbwX1w6",
        "outputId": "b1bbbf93-d561-4b24-9743-6a33d2af6e62"
      },
      "execution_count": 14,
      "outputs": [
        {
          "output_type": "stream",
          "name": "stdout",
          "text": [
            "1/1 [==============================] - 0s 39ms/step\n"
          ]
        }
      ]
    },
    {
      "cell_type": "code",
      "source": [
        "y_pred_main"
      ],
      "metadata": {
        "colab": {
          "base_uri": "https://localhost:8080/"
        },
        "id": "IxB1Hw0dZJ56",
        "outputId": "2961e989-c3b3-4dfd-a2ca-d3abd4f696a8"
      },
      "execution_count": 15,
      "outputs": [
        {
          "output_type": "execute_result",
          "data": {
            "text/plain": [
              "array([[3.7999666 ],\n",
              "       [0.85634077],\n",
              "       [2.171684  ]], dtype=float32)"
            ]
          },
          "metadata": {},
          "execution_count": 15
        }
      ]
    },
    {
      "cell_type": "code",
      "source": [
        "y_pred_aux"
      ],
      "metadata": {
        "id": "dyGrHIzXZMWL",
        "outputId": "57577c5b-2eae-491b-c673-7e01af8c509b",
        "colab": {
          "base_uri": "https://localhost:8080/"
        }
      },
      "execution_count": 16,
      "outputs": [
        {
          "output_type": "execute_result",
          "data": {
            "text/plain": [
              "array([[3.033003 ],\n",
              "       [1.114677 ],\n",
              "       [2.1387556]], dtype=float32)"
            ]
          },
          "metadata": {},
          "execution_count": 16
        }
      ]
    }
  ]
}